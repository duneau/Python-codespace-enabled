{
 "cells": [
  {
   "cell_type": "markdown",
   "metadata": {},
   "source": [
    "# SQL Create and Insert demo\n",
    "\n",
    "This demo notebook illustrate how to create a database, create 2 tables and insert data in these tables using Python."
   ]
  },
  {
   "cell_type": "code",
   "execution_count": 1,
   "metadata": {},
   "outputs": [
    {
     "name": "stdout",
     "output_type": "stream",
     "text": [
      "Database 'tinySQL.db' created and populated successfully.\n"
     ]
    }
   ],
   "source": [
    "import sqlite3\n",
    "\n",
    "# Create a SQLite database\n",
    "conn = sqlite3.connect('../data/candidates.db')\n",
    "cursor = conn.cursor()\n",
    "\n",
    "# Create the 'list' table\n",
    "cursor.execute('''\n",
    "    CREATE TABLE IF NOT EXISTS list (\n",
    "        list_id INTEGER PRIMARY KEY,\n",
    "        list_name TEXT\n",
    "    )\n",
    "''')\n",
    "\n",
    "# Create the 'candidate' table\n",
    "cursor.execute('''\n",
    "    CREATE TABLE IF NOT EXISTS candidate (\n",
    "        candidate_id INTEGER PRIMARY KEY,\n",
    "        candidate_name TEXT,\n",
    "        list_id INTEGER,\n",
    "        FOREIGN KEY (list_id) REFERENCES list (list_id)\n",
    "    )\n",
    "''')\n",
    "\n",
    "# Insert data into the 'list' table\n",
    "cursor.execute(\"INSERT INTO list (list_name) VALUES ('GRÜNE')\")\n",
    "cursor.execute(\"INSERT INTO list (list_name) VALUES ('FDP')\")\n",
    "cursor.execute(\"INSERT INTO list (list_name) VALUES ('SP')\")\n",
    "cursor.execute(\"INSERT INTO list (list_name) VALUES ('SVP')\")\n",
    "\n",
    "# Insert data into the 'candidate' table\n",
    "cursor.execute(\"INSERT INTO candidate (candidate_name, list_id) VALUES ('Alice', 1)\")\n",
    "cursor.execute(\"INSERT INTO candidate (candidate_name, list_id) VALUES ('Bob', 2)\")\n",
    "cursor.execute(\"INSERT INTO candidate (candidate_name, list_id) VALUES ('Charlie', 3)\")\n",
    "cursor.execute(\"INSERT INTO candidate (candidate_name, list_id) VALUES ('David', 4)\")\n",
    "\n",
    "# Commit the changes and close the connection\n",
    "conn.commit()\n",
    "conn.close()\n",
    "\n",
    "print(\"Database 'tinySQL.db' created and populated successfully.\")\n"
   ]
  }
 ],
 "metadata": {
  "kernelspec": {
   "display_name": "venv",
   "language": "python",
   "name": "python3"
  },
  "language_info": {
   "codemirror_mode": {
    "name": "ipython",
    "version": 3
   },
   "file_extension": ".py",
   "mimetype": "text/x-python",
   "name": "python",
   "nbconvert_exporter": "python",
   "pygments_lexer": "ipython3",
   "version": "3.11.4"
  }
 },
 "nbformat": 4,
 "nbformat_minor": 2
}
