{
 "cells": [
  {
   "cell_type": "markdown",
   "metadata": {},
   "source": [
    "# Demo Jupyter notebook\n",
    "\n",
    "To run this notebook, click on the \"Run All\" button above.\n",
    "\n",
    "You may need to select an environment (\"Kernel\"). If so, choose Python 3.11.x (or a later version)"
   ]
  },
  {
   "cell_type": "code",
   "execution_count": 1,
   "metadata": {},
   "outputs": [],
   "source": [
    "import numpy as np\n",
    "import pandas as pd\n",
    "import seaborn as sns\n",
    "import matplotlib.pyplot as plt\n",
    "from matplotlib import colors as mcolors\n",
    "import matplotlib.ticker as mtick\n",
    "import openpyxl\n",
    "from PIL import Image\n",
    "import requests"
   ]
  },
  {
   "cell_type": "code",
   "execution_count": 2,
   "metadata": {},
   "outputs": [
    {
     "name": "stdout",
     "output_type": "stream",
     "text": [
      "Pandas version:  1.5.3\n",
      "Seaborn version:  0.13.2\n",
      "Matplotlib version:  3.7.0\n",
      "Numpy version:  1.26.4\n",
      "Openpyxl version:  3.1.1\n",
      "PIL version:  10.3.0\n",
      "Requests version:  2.28.1\n"
     ]
    }
   ],
   "source": [
    "print(\"Pandas version: \", pd.__version__)\n",
    "print(\"Seaborn version: \", sns.__version__)\n",
    "print(\"Matplotlib version: \", plt.matplotlib.__version__)\n",
    "print(\"Numpy version: \", np.__version__)\n",
    "print(\"Openpyxl version: \", openpyxl.__version__)\n",
    "print(\"PIL version: \", Image.__version__)\n",
    "print(\"Requests version: \", requests.__version__)\n",
    "\n"
   ]
  },
  {
   "cell_type": "code",
   "execution_count": 3,
   "metadata": {},
   "outputs": [
    {
     "name": "stdout",
     "output_type": "stream",
     "text": [
      "Welcome data analysis fundamentals!\n"
     ]
    }
   ],
   "source": [
    "print(\"Welcome data analysis fundamentals!\")"
   ]
  }
 ],
 "metadata": {
  "kernelspec": {
   "display_name": "venv",
   "language": "python",
   "name": "python3"
  },
  "language_info": {
   "codemirror_mode": {
    "name": "ipython",
    "version": 3
   },
   "file_extension": ".py",
   "mimetype": "text/x-python",
   "name": "python",
   "nbconvert_exporter": "python",
   "pygments_lexer": "ipython3",
   "version": "3.11.9"
  }
 },
 "nbformat": 4,
 "nbformat_minor": 2
}
