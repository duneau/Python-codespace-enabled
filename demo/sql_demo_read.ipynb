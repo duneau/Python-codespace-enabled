{
 "cells": [
  {
   "cell_type": "markdown",
   "metadata": {},
   "source": [
    "# SQL SELECT in Python\n",
    "\n",
    "This file illustrate the use of an SQL SELECT query to extract data from 2 different tables.\n",
    "\n",
    "check sql_demo_write.ipynb to see what the database structure is and what the tables contain."
   ]
  },
  {
   "cell_type": "code",
   "execution_count": 2,
   "metadata": {},
   "outputs": [
    {
     "name": "stdout",
     "output_type": "stream",
     "text": [
      "SP Candidates:\n",
      "Charlie\n"
     ]
    }
   ],
   "source": [
    "import sqlite3\n",
    "\n",
    "# Connect to the SQLite database\n",
    "conn = sqlite3.connect('../data/candidates.db')\n",
    "cursor = conn.cursor()\n",
    "\n",
    "# Define the SQL query to select SP candidates and their details\n",
    "sql_query = '''\n",
    "    SELECT candidate_name\n",
    "    FROM candidate\n",
    "    WHERE list_id = (\n",
    "        SELECT list_id\n",
    "        FROM list\n",
    "        WHERE list_name = 'SP'\n",
    "    )\n",
    "'''\n",
    "\n",
    "# Execute the SQL query\n",
    "cursor.execute(sql_query)\n",
    "\n",
    "# Fetch all SP candidates and print their details\n",
    "sp_candidates = cursor.fetchall()\n",
    "\n",
    "if sp_candidates:\n",
    "    print(\"SP Candidates:\")\n",
    "    for candidate in sp_candidates:\n",
    "        print(candidate[0])  # Print candidate name\n",
    "\n",
    "else:\n",
    "    print(\"No SP candidates found.\")\n",
    "\n",
    "# Close the database connection\n",
    "conn.close()\n"
   ]
  }
 ],
 "metadata": {
  "kernelspec": {
   "display_name": "venv",
   "language": "python",
   "name": "python3"
  },
  "language_info": {
   "codemirror_mode": {
    "name": "ipython",
    "version": 3
   },
   "file_extension": ".py",
   "mimetype": "text/x-python",
   "name": "python",
   "nbconvert_exporter": "python",
   "pygments_lexer": "ipython3",
   "version": "3.11.4"
  }
 },
 "nbformat": 4,
 "nbformat_minor": 2
}
