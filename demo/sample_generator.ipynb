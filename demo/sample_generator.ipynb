{
 "cells": [
  {
   "cell_type": "markdown",
   "metadata": {},
   "source": [
    "## Dataset generator\n",
    "\n",
    "### Sample 1: Braincorp AG is a fast growing biotech in Zug. This data set contains employee data for all 3'450 permanent employees as of today.\n",
    "\n",
    "output: employee_data1.pkl\n",
    "\n"
   ]
  },
  {
   "cell_type": "code",
   "execution_count": 3,
   "metadata": {},
   "outputs": [
    {
     "name": "stdout",
     "output_type": "stream",
     "text": [
      "Collecting Faker\n",
      "  Using cached Faker-19.6.2-py3-none-any.whl (1.7 MB)\n",
      "Requirement already satisfied: python-dateutil>=2.4 in /home/vscode/venv/lib/python3.11/site-packages (from Faker) (2.8.2)\n",
      "Requirement already satisfied: six>=1.5 in /home/vscode/venv/lib/python3.11/site-packages (from python-dateutil>=2.4->Faker) (1.16.0)\n",
      "Installing collected packages: Faker\n",
      "Successfully installed Faker-19.6.2\n",
      "\n",
      "\u001b[1m[\u001b[0m\u001b[34;49mnotice\u001b[0m\u001b[1;39;49m]\u001b[0m\u001b[39;49m A new release of pip is available: \u001b[0m\u001b[31;49m23.1.2\u001b[0m\u001b[39;49m -> \u001b[0m\u001b[32;49m23.2.1\u001b[0m\n",
      "\u001b[1m[\u001b[0m\u001b[34;49mnotice\u001b[0m\u001b[1;39;49m]\u001b[0m\u001b[39;49m To update, run: \u001b[0m\u001b[32;49mpip install --upgrade pip\u001b[0m\n",
      "Note: you may need to restart the kernel to use updated packages.\n"
     ]
    }
   ],
   "source": [
    "%pip install Faker"
   ]
  },
  {
   "cell_type": "code",
   "execution_count": 12,
   "metadata": {},
   "outputs": [
    {
     "name": "stdout",
     "output_type": "stream",
     "text": [
      "    First Name Last Name  Gender      Rank   Birthdate  Birthyear\n",
      "0         Kent     Allen    Male  Employee  1776-12-12       1776\n",
      "1      Richard     Smith    Male  Employee  1965-06-09       1965\n",
      "2       Taylor   Sanchez  Female  Employee  1705-12-28       1705\n",
      "3  Christopher    Garcia    Male  Director  1963-08-17       1963\n",
      "4      Rebecca    Jarvis  Female  Director  1999-07-04       1999\n"
     ]
    }
   ],
   "source": [
    "import pandas as pd\n",
    "import random\n",
    "from faker import Faker\n",
    "import datetime\n",
    "\n",
    "# Set a seed for reproducibility\n",
    "random.seed(42)\n",
    "\n",
    "# Create a Faker instance to generate names\n",
    "fake = Faker()\n",
    "\n",
    "# Initialize lists to store data\n",
    "first_names = []\n",
    "last_names = []\n",
    "genders = []\n",
    "ranks = []\n",
    "birthdates = []\n",
    "birthyears = []\n",
    "\n",
    "# Define the distribution of ranks\n",
    "rank_distribution = {\n",
    "    \"Employee\": 30,\n",
    "    \"Associate Director\": 20,\n",
    "    \"Director\": 15,\n",
    "    \"Senior Director\": 10,\n",
    "    \"CEO\": 5\n",
    "}\n",
    "\n",
    "# Generate data for employees\n",
    "for _ in range(4450):\n",
    "    # Generate gender (30% women)\n",
    "    gender = random.choice([\"Male\", \"Female\"])\n",
    "    \n",
    "    # Generate first and last names of European and Asian origins\n",
    "    if gender == \"Male\":\n",
    "        first_name = fake.first_name_male()\n",
    "    else:\n",
    "        first_name = fake.first_name_female()\n",
    "    \n",
    "    last_name = fake.last_name()\n",
    "    \n",
    "    # Generate birthdate for different generations\n",
    "    current_year = datetime.datetime.now().year\n",
    "   \n",
    "    birth_date = fake.date_of_birth(minimum_age=20, maximum_age=70)\n",
    "    birth_year = birth_date.year\n",
    "    \n",
    "    # Introduce some data errors\n",
    "    if random.random() < 0.05:\n",
    "        # Invalid date of birth\n",
    "        birth_date = fake.date_of_birth(minimum_age=120, maximum_age=350)\n",
    "        birth_year = birth_date.year\n",
    "    if random.random() < 0.05:\n",
    "        # Numbers instead of names\n",
    "        first_name = random.randint(1000, 9999)\n",
    "        last_name = random.randint(1000, 9999)\n",
    "         \n",
    "    \n",
    "    # Generate rank based on the defined distribution\n",
    "    rank = random.choices(list(rank_distribution.keys()), \n",
    "                          weights=list(rank_distribution.values()))[0]\n",
    "    \n",
    "    # Append data to lists\n",
    "    first_names.append(first_name)\n",
    "    last_names.append(last_name)\n",
    "    genders.append(gender)\n",
    "    ranks.append(rank)\n",
    "    birthdates.append(birth_date)\n",
    "    birthyears.append(birth_year)\n",
    "\n",
    "# Create a DataFrame\n",
    "df = pd.DataFrame({\n",
    "    'First Name': first_names,\n",
    "    'Last Name': last_names,\n",
    "    'Gender': genders,\n",
    "    'Rank': ranks,\n",
    "    'Birthdate': birthdates,\n",
    "    'Birthyear': birthyears\n",
    "})\n",
    "\n",
    "# Display the first few rows of the DataFrame\n",
    "print(df.head())\n"
   ]
  },
  {
   "cell_type": "code",
   "execution_count": 13,
   "metadata": {},
   "outputs": [
    {
     "name": "stdout",
     "output_type": "stream",
     "text": [
      "<class 'pandas.core.frame.DataFrame'>\n",
      "RangeIndex: 4450 entries, 0 to 4449\n",
      "Data columns (total 6 columns):\n",
      " #   Column      Non-Null Count  Dtype \n",
      "---  ------      --------------  ----- \n",
      " 0   First Name  4450 non-null   object\n",
      " 1   Last Name   4450 non-null   object\n",
      " 2   Gender      4450 non-null   object\n",
      " 3   Rank        4450 non-null   object\n",
      " 4   Birthdate   4450 non-null   object\n",
      " 5   Birthyear   4450 non-null   int64 \n",
      "dtypes: int64(1), object(5)\n",
      "memory usage: 208.7+ KB\n"
     ]
    }
   ],
   "source": [
    "df.info()"
   ]
  },
  {
   "cell_type": "code",
   "execution_count": 14,
   "metadata": {},
   "outputs": [
    {
     "data": {
      "text/plain": [
       "1676     1\n",
       "1677     2\n",
       "1680     2\n",
       "1684     1\n",
       "1685     2\n",
       "        ..\n",
       "1999    65\n",
       "2000    84\n",
       "2001    77\n",
       "2002    82\n",
       "2003    82\n",
       "Name: Birthyear, Length: 192, dtype: int64"
      ]
     },
     "execution_count": 14,
     "metadata": {},
     "output_type": "execute_result"
    }
   ],
   "source": [
    "# show distribution by year of birth\n",
    "df['Birthyear'].value_counts().sort_index()"
   ]
  },
  {
   "cell_type": "code",
   "execution_count": 15,
   "metadata": {},
   "outputs": [
    {
     "data": {
      "text/plain": [
       "Employee              1644\n",
       "Associate Director    1091\n",
       "Director               880\n",
       "Senior Director        538\n",
       "CEO                    297\n",
       "Name: Rank, dtype: int64"
      ]
     },
     "execution_count": 15,
     "metadata": {},
     "output_type": "execute_result"
    }
   ],
   "source": [
    "# show a distribtion of the ranks\n",
    "df['Rank'].value_counts()"
   ]
  },
  {
   "cell_type": "code",
   "execution_count": 16,
   "metadata": {},
   "outputs": [],
   "source": [
    "gender_first_name_counts = df.groupby(['Gender', 'First Name']).size().reset_index(name='Count')\n"
   ]
  },
  {
   "cell_type": "code",
   "execution_count": 17,
   "metadata": {},
   "outputs": [
    {
     "data": {
      "text/html": [
       "<div>\n",
       "<style scoped>\n",
       "    .dataframe tbody tr th:only-of-type {\n",
       "        vertical-align: middle;\n",
       "    }\n",
       "\n",
       "    .dataframe tbody tr th {\n",
       "        vertical-align: top;\n",
       "    }\n",
       "\n",
       "    .dataframe thead th {\n",
       "        text-align: right;\n",
       "    }\n",
       "</style>\n",
       "<table border=\"1\" class=\"dataframe\">\n",
       "  <thead>\n",
       "    <tr style=\"text-align: right;\">\n",
       "      <th></th>\n",
       "      <th>Gender</th>\n",
       "      <th>First Name</th>\n",
       "      <th>Count</th>\n",
       "    </tr>\n",
       "  </thead>\n",
       "  <tbody>\n",
       "    <tr>\n",
       "      <th>752</th>\n",
       "      <td>Male</td>\n",
       "      <td>Terrance</td>\n",
       "      <td>1</td>\n",
       "    </tr>\n",
       "    <tr>\n",
       "      <th>436</th>\n",
       "      <td>Male</td>\n",
       "      <td>3319</td>\n",
       "      <td>1</td>\n",
       "    </tr>\n",
       "    <tr>\n",
       "      <th>225</th>\n",
       "      <td>Female</td>\n",
       "      <td>Jasmin</td>\n",
       "      <td>1</td>\n",
       "    </tr>\n",
       "    <tr>\n",
       "      <th>663</th>\n",
       "      <td>Male</td>\n",
       "      <td>Jorge</td>\n",
       "      <td>4</td>\n",
       "    </tr>\n",
       "    <tr>\n",
       "      <th>422</th>\n",
       "      <td>Male</td>\n",
       "      <td>2205</td>\n",
       "      <td>1</td>\n",
       "    </tr>\n",
       "    <tr>\n",
       "      <th>471</th>\n",
       "      <td>Male</td>\n",
       "      <td>6763</td>\n",
       "      <td>1</td>\n",
       "    </tr>\n",
       "    <tr>\n",
       "      <th>499</th>\n",
       "      <td>Male</td>\n",
       "      <td>8652</td>\n",
       "      <td>1</td>\n",
       "    </tr>\n",
       "    <tr>\n",
       "      <th>512</th>\n",
       "      <td>Male</td>\n",
       "      <td>9863</td>\n",
       "      <td>1</td>\n",
       "    </tr>\n",
       "    <tr>\n",
       "      <th>546</th>\n",
       "      <td>Male</td>\n",
       "      <td>Bruce</td>\n",
       "      <td>8</td>\n",
       "    </tr>\n",
       "    <tr>\n",
       "      <th>20</th>\n",
       "      <td>Female</td>\n",
       "      <td>2766</td>\n",
       "      <td>1</td>\n",
       "    </tr>\n",
       "  </tbody>\n",
       "</table>\n",
       "</div>"
      ],
      "text/plain": [
       "     Gender First Name  Count\n",
       "752    Male   Terrance      1\n",
       "436    Male       3319      1\n",
       "225  Female     Jasmin      1\n",
       "663    Male      Jorge      4\n",
       "422    Male       2205      1\n",
       "471    Male       6763      1\n",
       "499    Male       8652      1\n",
       "512    Male       9863      1\n",
       "546    Male      Bruce      8\n",
       "20   Female       2766      1"
      ]
     },
     "execution_count": 17,
     "metadata": {},
     "output_type": "execute_result"
    }
   ],
   "source": [
    "gender_first_name_counts.sample(10)"
   ]
  },
  {
   "cell_type": "code",
   "execution_count": 18,
   "metadata": {},
   "outputs": [],
   "source": [
    "df.to_pickle(\"../data/employees_data1.pkl\")"
   ]
  },
  {
   "cell_type": "markdown",
   "metadata": {},
   "source": [
    "### Sample 2\n",
    "\n",
    "Pandix GmbH is an up and coming tech startup operating in the renewable energy sector. This dataset contains the 126 employee data as of last month.\n"
   ]
  },
  {
   "cell_type": "markdown",
   "metadata": {},
   "source": []
  },
  {
   "cell_type": "code",
   "execution_count": 28,
   "metadata": {},
   "outputs": [
    {
     "name": "stdout",
     "output_type": "stream",
     "text": [
      "   Employee_ID Firstname Lastname  Age  Monthly_Salary                Rank  \\\n",
      "0            1      Adam  Alvarez   62            6006            Employee   \n",
      "1           28      Eric  Kennedy   28            4260                 CEO   \n",
      "2            3    Dakota    Adams   36          102124                 CEO   \n",
      "3            4    Brooke  Fischer   56            6278     Senior Director   \n",
      "4            5    Teresa    Payne   22            5273  Associate Director   \n",
      "\n",
      "  Office_Location  \n",
      "0          Zürich  \n",
      "1          Zürich  \n",
      "2          Meilen  \n",
      "3          Luzern  \n",
      "4         Thalwil  \n"
     ]
    }
   ],
   "source": [
    "import pandas as pd\n",
    "import random\n",
    "\n",
    "# Set a seed for reproducibility\n",
    "random.seed(42)\n",
    "\n",
    "# Create lists to store data\n",
    "employee_ids = []\n",
    "first_names = []\n",
    "last_names = []\n",
    "ages = []\n",
    "salaries = []\n",
    "ranks = []\n",
    "office_locations = []\n",
    "\n",
    "# Define the Swiss cities\n",
    "swiss_cities = [\"Zürich\", \"Luzern\", \"Horgen\", \"Thalwil\", \"Meilen\"]\n",
    "\n",
    "# Generate data the employees\n",
    "for employee_id in range(1, 126):\n",
    "    first_name = fake.first_name()\n",
    "    last_name = fake.last_name()\n",
    "    age = random.randint(22, 65)  # Random age between 22 and 65\n",
    "\n",
    "    \n",
    "    rank = random.choice([\"Employee\", \"Associate Director\", \"Director\", \"Senior Director\", \"CEO\"])\n",
    "    office_location = random.choice(swiss_cities)\n",
    "    \n",
    "    # Generate salaries with some outliers\n",
    "    if random.random() < 0.05:\n",
    "        salary = random.randint(50000, 200000)  # Outlier salary\n",
    "    else:\n",
    "        salary = random.randint(4000, 12000)  # Regular salary\n",
    "    \n",
    "  # Generate salaries with some outliers\n",
    "    if random.random() < 0.05:\n",
    "        employee_id = random.randint(1, 126) # deuplicate employee id\n",
    "\n",
    "    # Append data to lists\n",
    "    employee_ids.append(employee_id)\n",
    "    first_names.append(first_name)\n",
    "    last_names.append(last_name)\n",
    "    ages.append(age)\n",
    "    salaries.append(salary)\n",
    "    ranks.append(rank)\n",
    "    office_locations.append(office_location)\n",
    "\n",
    "# Create a DataFrame\n",
    "employee_data = pd.DataFrame({\n",
    "    'Employee_ID': employee_ids,\n",
    "    'Firstname': first_names,\n",
    "    'Lastname': last_names,\n",
    "    'Age': ages,\n",
    "    'Monthly_Salary': salaries,\n",
    "    'Rank': ranks,\n",
    "    'Office_Location': office_locations\n",
    "})\n",
    "\n",
    "# Display the first few rows of the DataFrame\n",
    "print(employee_data.head())\n"
   ]
  },
  {
   "cell_type": "code",
   "execution_count": 22,
   "metadata": {},
   "outputs": [
    {
     "data": {
      "text/plain": [
       "count       125.000000\n",
       "mean      13184.432000\n",
       "std       27153.606587\n",
       "min        4094.000000\n",
       "25%        6172.000000\n",
       "50%        8612.000000\n",
       "75%       10502.000000\n",
       "max      195385.000000\n",
       "Name: Salary, dtype: float64"
      ]
     },
     "execution_count": 22,
     "metadata": {},
     "output_type": "execute_result"
    }
   ],
   "source": [
    "# show salary distribution\n",
    "\n",
    "employee_data['Monthly_Salary'].describe()"
   ]
  },
  {
   "cell_type": "code",
   "execution_count": 29,
   "metadata": {},
   "outputs": [
    {
     "data": {
      "text/plain": [
       "119    3\n",
       "28     2\n",
       "99     2\n",
       "15     2\n",
       "44     2\n",
       "      ..\n",
       "38     1\n",
       "37     1\n",
       "36     1\n",
       "35     1\n",
       "125    1\n",
       "Name: Employee_ID, Length: 118, dtype: int64"
      ]
     },
     "execution_count": 29,
     "metadata": {},
     "output_type": "execute_result"
    }
   ],
   "source": [
    "# show distribution by employee id\n",
    "employee_data.Employee_ID.value_counts()"
   ]
  },
  {
   "cell_type": "code",
   "execution_count": 31,
   "metadata": {},
   "outputs": [
    {
     "data": {
      "text/html": [
       "<div>\n",
       "<style scoped>\n",
       "    .dataframe tbody tr th:only-of-type {\n",
       "        vertical-align: middle;\n",
       "    }\n",
       "\n",
       "    .dataframe tbody tr th {\n",
       "        vertical-align: top;\n",
       "    }\n",
       "\n",
       "    .dataframe thead th {\n",
       "        text-align: right;\n",
       "    }\n",
       "</style>\n",
       "<table border=\"1\" class=\"dataframe\">\n",
       "  <thead>\n",
       "    <tr style=\"text-align: right;\">\n",
       "      <th></th>\n",
       "      <th>Employee_ID</th>\n",
       "      <th>Firstname</th>\n",
       "      <th>Lastname</th>\n",
       "      <th>Age</th>\n",
       "      <th>Monthly_Salary</th>\n",
       "      <th>Rank</th>\n",
       "      <th>Office_Location</th>\n",
       "    </tr>\n",
       "  </thead>\n",
       "  <tbody>\n",
       "    <tr>\n",
       "      <th>25</th>\n",
       "      <td>119</td>\n",
       "      <td>Michael</td>\n",
       "      <td>Hart</td>\n",
       "      <td>56</td>\n",
       "      <td>8002</td>\n",
       "      <td>CEO</td>\n",
       "      <td>Zürich</td>\n",
       "    </tr>\n",
       "    <tr>\n",
       "      <th>74</th>\n",
       "      <td>119</td>\n",
       "      <td>Tina</td>\n",
       "      <td>Ward</td>\n",
       "      <td>58</td>\n",
       "      <td>164309</td>\n",
       "      <td>Associate Director</td>\n",
       "      <td>Horgen</td>\n",
       "    </tr>\n",
       "    <tr>\n",
       "      <th>118</th>\n",
       "      <td>119</td>\n",
       "      <td>Thomas</td>\n",
       "      <td>Rodriguez</td>\n",
       "      <td>39</td>\n",
       "      <td>8668</td>\n",
       "      <td>Senior Director</td>\n",
       "      <td>Luzern</td>\n",
       "    </tr>\n",
       "  </tbody>\n",
       "</table>\n",
       "</div>"
      ],
      "text/plain": [
       "     Employee_ID Firstname   Lastname  Age  Monthly_Salary  \\\n",
       "25           119   Michael       Hart   56            8002   \n",
       "74           119      Tina       Ward   58          164309   \n",
       "118          119    Thomas  Rodriguez   39            8668   \n",
       "\n",
       "                   Rank Office_Location  \n",
       "25                  CEO          Zürich  \n",
       "74   Associate Director          Horgen  \n",
       "118     Senior Director          Luzern  "
      ]
     },
     "execution_count": 31,
     "metadata": {},
     "output_type": "execute_result"
    }
   ],
   "source": [
    "employee_data[employee_data.Employee_ID == 119]"
   ]
  },
  {
   "cell_type": "code",
   "execution_count": 32,
   "metadata": {},
   "outputs": [],
   "source": [
    "employee_data.to_pickle(\"../data/employees_data2.pkl\")"
   ]
  },
  {
   "cell_type": "markdown",
   "metadata": {},
   "source": [
    "## Sample 3\n",
    "\n",
    "FINMA is running an investigation into a large fraud scheme at a fund manager where cartel members have infiltrated the staff in order to get access to sensitive information. This dataset is employee list of Casa de papel Asset Management AG.\n"
   ]
  },
  {
   "cell_type": "code",
   "execution_count": 38,
   "metadata": {},
   "outputs": [
    {
     "name": "stdout",
     "output_type": "stream",
     "text": [
      "   Employee ID First Name  Last Name                Rank  Hire year  \\\n",
      "0            1       Jill  Henderson            Employee       2023   \n",
      "1            2       Mark     Martin  Associate Director       2021   \n",
      "2            3     Steven   Mckenzie                 CEO       2017   \n",
      "3            4    Barbara    Johnson            Employee       2020   \n",
      "4            5       John    Daniels                 CEO       2023   \n",
      "\n",
      "  Background Check Status  \n",
      "0                    Pass  \n",
      "1                    Pass  \n",
      "2                    None  \n",
      "3                    None  \n",
      "4                    None  \n"
     ]
    }
   ],
   "source": [
    "import pandas as pd\n",
    "import random\n",
    "from faker import Faker\n",
    "import datetime\n",
    "\n",
    "# Set a seed for reproducibility\n",
    "random.seed(42)\n",
    "\n",
    "# Create a Faker instance to generate names and hire dates\n",
    "fake = Faker()\n",
    "\n",
    "# Initialize lists to store data\n",
    "employee_ids = []\n",
    "first_names = []\n",
    "last_names = []\n",
    "ranks = []\n",
    "hire_years = []\n",
    "background_check_status = []\n",
    "\n",
    "# Define the number of employees\n",
    "num_employees = 1923\n",
    "\n",
    "# Generate data for employees\n",
    "for employee_id in range(1, num_employees + 1):\n",
    "    first_name = fake.first_name()\n",
    "    last_name = fake.last_name()\n",
    "    rank = random.choice([\"Employee\", \"Associate Director\", \"Director\", \"Senior Director\", \"CEO\"])\n",
    "    \n",
    "    # Generate hire date within the last 10 years\n",
    "    current_year = datetime.datetime.now().year\n",
    "\n",
    "\n",
    "    hire_year = current_year-random.randint(0, 10)\n",
    "    # Introduce 57% missing background check status\n",
    "    if random.random() < 0.57:\n",
    "        background_check = None\n",
    "    else:\n",
    "        background_check = random.choice([\"Pass\", \"Fail\"])\n",
    "    \n",
    "    # Append data to lists\n",
    "    employee_ids.append(employee_id)\n",
    "    first_names.append(first_name)\n",
    "    last_names.append(last_name)\n",
    "    ranks.append(rank)\n",
    "    hire_years.append(hire_year)\n",
    "    background_check_status.append(background_check)\n",
    "\n",
    "# Create a DataFrame\n",
    "employee_data = pd.DataFrame({\n",
    "    'Employee ID': employee_ids,\n",
    "    'First Name': first_names,\n",
    "    'Last Name': last_names,\n",
    "    'Rank': ranks,\n",
    "    'Hire year': hire_years,\n",
    "    'Background Check Status': background_check_status\n",
    "})\n",
    "\n",
    "# Display the first few rows of the DataFrame\n",
    "print(employee_data.head())\n"
   ]
  },
  {
   "cell_type": "markdown",
   "metadata": {},
   "source": []
  },
  {
   "cell_type": "code",
   "execution_count": 39,
   "metadata": {},
   "outputs": [
    {
     "name": "stdout",
     "output_type": "stream",
     "text": [
      "<class 'pandas.core.frame.DataFrame'>\n",
      "RangeIndex: 1923 entries, 0 to 1922\n",
      "Data columns (total 6 columns):\n",
      " #   Column                   Non-Null Count  Dtype \n",
      "---  ------                   --------------  ----- \n",
      " 0   Employee ID              1923 non-null   int64 \n",
      " 1   First Name               1923 non-null   object\n",
      " 2   Last Name                1923 non-null   object\n",
      " 3   Rank                     1923 non-null   object\n",
      " 4   Hire year                1923 non-null   int64 \n",
      " 5   Background Check Status  787 non-null    object\n",
      "dtypes: int64(2), object(4)\n",
      "memory usage: 90.3+ KB\n"
     ]
    }
   ],
   "source": [
    "employee_data.info()"
   ]
  },
  {
   "cell_type": "code",
   "execution_count": 40,
   "metadata": {},
   "outputs": [],
   "source": [
    "employee_data.to_pickle(\"../data/employees_data3.pkl\")"
   ]
  },
  {
   "cell_type": "markdown",
   "metadata": {},
   "source": [
    "### Sample 4\n",
    "\n",
    "Mattex AG is a leading consultancy firm located in Zug. They have gender diversity targets for employee with personel responsibilities (i.e. employees who manage at least another employee)."
   ]
  },
  {
   "cell_type": "code",
   "execution_count": 46,
   "metadata": {},
   "outputs": [
    {
     "name": "stdout",
     "output_type": "stream",
     "text": [
      "['2010-11-13T00:00:00.000000000' '2004-07-29T00:00:00.000000000'\n",
      " '2008-05-16T00:00:00.000000000']\n",
      "        Date  Percentage of Women in Management\n",
      "0 2000-01-01                           0.070000\n",
      "1 2000-01-02                           0.070016\n",
      "2 2000-01-03                           0.070033\n",
      "3 2000-01-04                           0.070049\n",
      "4 2000-01-05                           0.070066\n"
     ]
    }
   ],
   "source": [
    "import pandas as pd\n",
    "import numpy as np\n",
    "import datetime\n",
    "\n",
    "# Set a seed for reproducibility\n",
    "np.random.seed(42)\n",
    "\n",
    "# Generate date range from January 1, 2000, to today\n",
    "start_date = datetime.date(2000, 1, 1)\n",
    "end_date = datetime.date.today()\n",
    "date_range = pd.date_range(start=start_date, end=end_date, freq='D')\n",
    "\n",
    "# Initialize a list to store percentage of women in management\n",
    "percentage_women = []\n",
    "\n",
    "# Define the overall trend parameters\n",
    "initial_percentage = 0.07  # 7% in 2000\n",
    "final_percentage = 0.213  # 21.3% today\n",
    "\n",
    "# Generate the overall trend with a gradual increase\n",
    "total_days = len(date_range)\n",
    "slope = (final_percentage - initial_percentage) / total_days\n",
    "for day in range(total_days):\n",
    "    percentage = initial_percentage + slope * day\n",
    "    percentage_women.append(percentage)\n",
    "\n",
    "\n",
    "# get 3 random dates between start_date and end_date\n",
    "outlier_dates = np.random.choice(date_range, 3, replace=False)\n",
    "\n",
    "print(outlier_dates)\n",
    "\n",
    "outlier_percentages = [0.75, 0.8, 0.07]  # Example outlier percentages\n",
    "\n",
    "# Update the percentage list with outlier values\n",
    "for date, outlier_percentage in zip(outlier_dates, outlier_percentages):\n",
    "    idx = date_range.get_loc(date)\n",
    "    percentage_women[idx] = outlier_percentage\n",
    "\n",
    "# Create a DataFrame with the time series data\n",
    "time_series_data = pd.DataFrame({\n",
    "    'Date': date_range,\n",
    "    'Percentage of Women in Management': percentage_women\n",
    "})\n",
    "\n",
    "# Print the first few rows of the time series data\n",
    "print(time_series_data.head())\n"
   ]
  },
  {
   "cell_type": "code",
   "execution_count": 48,
   "metadata": {},
   "outputs": [],
   "source": [
    "time_series_data.to_pickle(\"../data/employees_data4.pkl\")"
   ]
  },
  {
   "cell_type": "code",
   "execution_count": 47,
   "metadata": {},
   "outputs": [
    {
     "data": {
      "image/png": "[encoded data removed]",
      "text/plain": [
       "<Figure size 1200x600 with 1 Axes>"
      ]
     },
     "metadata": {},
     "output_type": "display_data"
    }
   ],
   "source": [
    "import matplotlib.pyplot as plt\n",
    "\n",
    "# Extract the date and percentage data from the DataFrame\n",
    "dates = time_series_data['Date']\n",
    "percentages = time_series_data['Percentage of Women in Management']\n",
    "\n",
    "# Create a line plot\n",
    "plt.figure(figsize=(12, 6))\n",
    "plt.plot(dates, percentages, label='Percentage of Women in Management', color='b', linewidth=2)\n",
    "\n",
    "# Highlight the outlier months\n",
    "outlier_dates = [\n",
    "    datetime.date(2003, 5, 15),\n",
    "    datetime.date(2008, 9, 20),\n",
    "    datetime.date(2015, 12, 10)\n",
    "]\n",
    "outlier_percentages = [0.75, 0.8, 0.71]\n",
    "\n",
    "for date, percentage in zip(outlier_dates, outlier_percentages):\n",
    "    plt.scatter(date, percentage, color='r', marker='o', label='Outlier')\n",
    "\n",
    "# Add labels and title\n",
    "plt.xlabel('Date')\n",
    "plt.ylabel('Percentage')\n",
    "plt.title('Percentage of Women in Management Over Time')\n",
    "plt.grid(True)\n",
    "\n",
    "# Add a legend\n",
    "plt.legend()\n",
    "\n",
    "# Show the plot\n",
    "plt.tight_layout()\n",
    "plt.show()\n",
    "\n",
    "\n",
    "\n"
   ]
  }
 ],
 "metadata": {
  "kernelspec": {
   "display_name": "venv",
   "language": "python",
   "name": "python3"
  },
  "language_info": {
   "codemirror_mode": {
    "name": "ipython",
    "version": 3
   },
   "file_extension": ".py",
   "mimetype": "text/x-python",
   "name": "python",
   "nbconvert_exporter": "python",
   "pygments_lexer": "ipython3",
   "version": "3.11.4"
  }
 },
 "nbformat": 4,
 "nbformat_minor": 2
}
