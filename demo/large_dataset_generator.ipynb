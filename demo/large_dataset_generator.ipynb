{
 "cells": [
  {
   "cell_type": "markdown",
   "metadata": {},
   "source": [
    "# Large dataset generator\n",
    "\n",
    "This script generates 500'000 test records of earthquakes and retrieves the country and nearest city from the gep locaiton data"
   ]
  },
  {
   "cell_type": "code",
   "execution_count": 1,
   "metadata": {},
   "outputs": [],
   "source": [
    "import numpy as np\n",
    "import pandas as pd\n",
    "import datetime\n",
    "import random\n",
    "\n",
    "# Define the list of cities with high earthquake activity\n",
    "cities = [\n",
    "    {\"City\": \"Tokyo\", \"Country\": \"Japan\"},\n",
    "    {\"City\": \"San Francisco\", \"Country\": \"USA\"},\n",
    "    {\"City\": \"Los Angeles\", \"Country\": \"USA\"},\n",
    "    {\"City\": \"Mexico City\", \"Country\": \"Mexico\"},\n",
    "    {\"City\": \"Anchorage\", \"Country\": \"USA\"},\n",
    "    {\"City\": \"Istanbul\", \"Country\": \"Turkey\"},\n",
    "    {\"City\": \"Kathmandu\", \"Country\": \"Nepal\"}\n",
    "]\n",
    "\n",
    "# Set the number of earthquake records to generate\n",
    "num_records = 500000\n",
    "\n",
    "# Create a datetime range\n",
    "start_date = datetime.datetime(1974, 1, 1)\n",
    "end_date = datetime.datetime(2023, 9, 30)\n",
    "date_range = pd.date_range(start_date, end_date, periods=num_records)\n",
    "\n",
    "# Generate synthetic earthquake data\n",
    "data = {\n",
    "    \"Timestamp\": date_range,\n",
    "    \"City\": [random.choice(cities)[\"City\"] for _ in range(num_records)],\n",
    "    \"Magnitude\": np.random.uniform(3.0, 9.0, num_records),\n",
    "    \"Depth (km)\": np.random.uniform(1.0, 100.0, num_records),\n",
    "   \n",
    "}\n",
    "\n",
    "# Create a DataFrame to store the earthquake data\n",
    "earthquake_data = pd.DataFrame(data)\n",
    "\n"
   ]
  },
  {
   "cell_type": "code",
   "execution_count": 2,
   "metadata": {},
   "outputs": [
    {
     "data": {
      "text/html": [
       "<div>\n",
       "<style scoped>\n",
       "    .dataframe tbody tr th:only-of-type {\n",
       "        vertical-align: middle;\n",
       "    }\n",
       "\n",
       "    .dataframe tbody tr th {\n",
       "        vertical-align: top;\n",
       "    }\n",
       "\n",
       "    .dataframe thead th {\n",
       "        text-align: right;\n",
       "    }\n",
       "</style>\n",
       "<table border=\"1\" class=\"dataframe\">\n",
       "  <thead>\n",
       "    <tr style=\"text-align: right;\">\n",
       "      <th></th>\n",
       "      <th>Timestamp</th>\n",
       "      <th>City</th>\n",
       "      <th>Magnitude</th>\n",
       "      <th>Depth (km)</th>\n",
       "    </tr>\n",
       "  </thead>\n",
       "  <tbody>\n",
       "    <tr>\n",
       "      <th>0</th>\n",
       "      <td>1974-01-01 00:00:00.000000000</td>\n",
       "      <td>Los Angeles</td>\n",
       "      <td>8.849242</td>\n",
       "      <td>49.372167</td>\n",
       "    </tr>\n",
       "    <tr>\n",
       "      <th>1</th>\n",
       "      <td>1974-01-01 00:52:19.609479218</td>\n",
       "      <td>Istanbul</td>\n",
       "      <td>5.875772</td>\n",
       "      <td>24.514697</td>\n",
       "    </tr>\n",
       "    <tr>\n",
       "      <th>2</th>\n",
       "      <td>1974-01-01 01:44:39.218958437</td>\n",
       "      <td>Istanbul</td>\n",
       "      <td>3.866932</td>\n",
       "      <td>37.611283</td>\n",
       "    </tr>\n",
       "    <tr>\n",
       "      <th>3</th>\n",
       "      <td>1974-01-01 02:36:58.828437656</td>\n",
       "      <td>Kathmandu</td>\n",
       "      <td>4.844319</td>\n",
       "      <td>1.358652</td>\n",
       "    </tr>\n",
       "    <tr>\n",
       "      <th>4</th>\n",
       "      <td>1974-01-01 03:29:18.437916875</td>\n",
       "      <td>Los Angeles</td>\n",
       "      <td>6.568260</td>\n",
       "      <td>93.289882</td>\n",
       "    </tr>\n",
       "  </tbody>\n",
       "</table>\n",
       "</div>"
      ],
      "text/plain": [
       "                      Timestamp         City  Magnitude  Depth (km)\n",
       "0 1974-01-01 00:00:00.000000000  Los Angeles   8.849242   49.372167\n",
       "1 1974-01-01 00:52:19.609479218     Istanbul   5.875772   24.514697\n",
       "2 1974-01-01 01:44:39.218958437     Istanbul   3.866932   37.611283\n",
       "3 1974-01-01 02:36:58.828437656    Kathmandu   4.844319    1.358652\n",
       "4 1974-01-01 03:29:18.437916875  Los Angeles   6.568260   93.289882"
      ]
     },
     "execution_count": 2,
     "metadata": {},
     "output_type": "execute_result"
    }
   ],
   "source": [
    "earthquake_data.head()"
   ]
  },
  {
   "cell_type": "code",
   "execution_count": 3,
   "metadata": {},
   "outputs": [
    {
     "name": "stdout",
     "output_type": "stream",
     "text": [
      "<class 'pandas.core.frame.DataFrame'>\n",
      "RangeIndex: 500000 entries, 0 to 499999\n",
      "Data columns (total 4 columns):\n",
      " #   Column      Non-Null Count   Dtype         \n",
      "---  ------      --------------   -----         \n",
      " 0   Timestamp   500000 non-null  datetime64[ns]\n",
      " 1   City        500000 non-null  object        \n",
      " 2   Magnitude   500000 non-null  float64       \n",
      " 3   Depth (km)  500000 non-null  float64       \n",
      "dtypes: datetime64[ns](1), float64(2), object(1)\n",
      "memory usage: 15.3+ MB\n"
     ]
    }
   ],
   "source": [
    "earthquake_data.info()"
   ]
  },
  {
   "cell_type": "code",
   "execution_count": 4,
   "metadata": {},
   "outputs": [],
   "source": [
    "\n",
    "# Optionally, you can save the data to a CSV file\n",
    "earthquake_data.to_csv('../data/earthquake_data.csv', index=False)"
   ]
  },
  {
   "cell_type": "code",
   "execution_count": 5,
   "metadata": {},
   "outputs": [],
   "source": [
    "# export as pickle file\n",
    "earthquake_data.to_pickle('../data/earthquake_data.pkl')"
   ]
  },
  {
   "cell_type": "code",
   "execution_count": 12,
   "metadata": {},
   "outputs": [],
   "source": [
    "import pandas as pd\n",
    "\n",
    "# Define a list of cities with their corresponding countries\n",
    "cities = [\n",
    "    {\"City\": \"Tokyo\", \"Country\": \"Japan\"},\n",
    "    {\"City\": \"San Francisco\", \"Country\": \"USA\"},\n",
    "    {\"City\": \"Los Angeles\", \"Country\": \"USA\"},\n",
    "    {\"City\": \"Mexico City\", \"Country\": \"Mexico\"},\n",
    "    {\"City\": \"Anchorage\", \"Country\": \"USA\"},\n",
    "    {\"City\": \"Istanbul\", \"Country\": \"Turkey\"},\n",
    "    {\"City\": \"Kathmandu\", \"Country\": \"Nepal\"}\n",
    "]\n",
    "\n",
    "# Create a DataFrame to store population data\n",
    "population_data = pd.DataFrame(columns=[\"City\", \"Country\", \"Population\"])\n",
    "\n",
    "# Define synthetic population data for each city\n",
    "population_data[\"City\"] = [city[\"City\"] for city in cities]\n",
    "population_data[\"Country\"] = [city[\"Country\"] for city in cities]\n",
    "\n",
    "# Generate synthetic population figures\n",
    "# You can adjust the population range as needed\n",
    "population_data[\"Population\"] = [\n",
    "    int(pop * 1000) for pop in\n",
    "    [37.0, 0.883, 3.8, 21.0, 0.29, 15.0, 1.0]  # Population in millions (as of my last update)\n",
    "]\n",
    "\n"
   ]
  },
  {
   "cell_type": "code",
   "execution_count": 13,
   "metadata": {},
   "outputs": [],
   "source": [
    "# Optionally, you can save the data to a CSV file\n",
    "population_data.to_csv('../data/city_population_data.csv', index=False)\n"
   ]
  },
  {
   "cell_type": "code",
   "execution_count": 14,
   "metadata": {},
   "outputs": [],
   "source": [
    "population_data.to_pickle('../data/city_population_data.pkl')"
   ]
  },
  {
   "cell_type": "code",
   "execution_count": null,
   "metadata": {},
   "outputs": [],
   "source": []
  }
 ],
 "metadata": {
  "kernelspec": {
   "display_name": "venv",
   "language": "python",
   "name": "python3"
  },
  "language_info": {
   "codemirror_mode": {
    "name": "ipython",
    "version": 3
   },
   "file_extension": ".py",
   "mimetype": "text/x-python",
   "name": "python",
   "nbconvert_exporter": "python",
   "pygments_lexer": "ipython3",
   "version": "3.11.4"
  }
 },
 "nbformat": 4,
 "nbformat_minor": 2
}
